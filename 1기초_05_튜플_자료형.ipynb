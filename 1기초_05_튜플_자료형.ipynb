{
  "nbformat": 4,
  "nbformat_minor": 0,
  "metadata": {
    "colab": {
      "provenance": [],
      "authorship_tag": "ABX9TyM+1N6cXTliHIsOwcE8n3Kk",
      "include_colab_link": true
    },
    "kernelspec": {
      "name": "python3",
      "display_name": "Python 3"
    },
    "language_info": {
      "name": "python"
    }
  },
  "cells": [
    {
      "cell_type": "markdown",
      "metadata": {
        "id": "view-in-github",
        "colab_type": "text"
      },
      "source": [
        "<a href=\"https://colab.research.google.com/github/violet417/Python-Basics-for-Data-Analysis/blob/main/1%EA%B8%B0%EC%B4%88_05_%ED%8A%9C%ED%94%8C_%EC%9E%90%EB%A3%8C%ED%98%95.ipynb\" target=\"_parent\"><img src=\"https://colab.research.google.com/assets/colab-badge.svg\" alt=\"Open In Colab\"/></a>"
      ]
    },
    {
      "cell_type": "code",
      "execution_count": null,
      "metadata": {
        "id": "POE8Op_NojZW"
      },
      "outputs": [],
      "source": [
        "# 데이터들이 연속적으로 저장되는 형태의 자료형\n",
        "# 튜플 자료형"
      ]
    },
    {
      "cell_type": "code",
      "source": [
        "tuple1 = (1,2,3)\n",
        "tuple2 = (1,2,3,[4,5])\n",
        "print(tuple1)\n",
        "print(tuple2)"
      ],
      "metadata": {
        "colab": {
          "base_uri": "https://localhost:8080/"
        },
        "id": "24u6fDvyou1g",
        "outputId": "242773f8-bf88-4c55-8641-abc819035c79"
      },
      "execution_count": null,
      "outputs": [
        {
          "output_type": "stream",
          "name": "stdout",
          "text": [
            "(1, 2, 3)\n",
            "(1, 2, 3, [4, 5])\n"
          ]
        }
      ]
    },
    {
      "cell_type": "code",
      "source": [
        "# 튜플 값 변경하기 ---> 에러발생! 값 변경 불가\n",
        "a = (1,3,5,4,2)\n",
        "a[2] = 10\n",
        "print(a)"
      ],
      "metadata": {
        "id": "f9P8K5Szo6At"
      },
      "execution_count": null,
      "outputs": []
    },
    {
      "cell_type": "code",
      "source": [
        "# 튜플 값 삭제하기 ---> 에러발생! 값 삭제 불가\n",
        "a = (1,3,5,4,2)\n",
        "del a[2]\n",
        "print(a)"
      ],
      "metadata": {
        "id": "vgePofK3pD2a"
      },
      "execution_count": null,
      "outputs": []
    },
    {
      "cell_type": "code",
      "source": [
        "\"\"\" [튜플 자료형 특징]\n",
        "1. 튜플은 한번 정하면 절대 수정하거나 삭제할 수 없다. \n",
        "2. 하나의 변수에 여러 개의 값을 할당하면, 자동으로 튜플로 묶어서 저장해준다. \n",
        "3. 기본적으로는 하나의 값은 취급하지 않는다. \"\"\""
      ],
      "metadata": {
        "id": "rRQtwjL2ph1K"
      },
      "execution_count": null,
      "outputs": []
    },
    {
      "cell_type": "code",
      "source": [
        "# 튜플 인덱싱\n",
        "a = (1,3,5,4,2)\n",
        "print(a[0])\n",
        "print(a[-1])"
      ],
      "metadata": {
        "colab": {
          "base_uri": "https://localhost:8080/"
        },
        "id": "HfoPe4ldp7q7",
        "outputId": "2d0138de-e15e-4054-ba59-e5b2bc34c759"
      },
      "execution_count": null,
      "outputs": [
        {
          "output_type": "stream",
          "name": "stdout",
          "text": [
            "1\n",
            "2\n"
          ]
        }
      ]
    },
    {
      "cell_type": "code",
      "source": [
        "# 튜플 슬라이싱\n",
        "a = (1,3,5,4,2,0,7)\n",
        "print(a[2:5])\n",
        "print(a[3:])\n",
        "print(a[:5])"
      ],
      "metadata": {
        "colab": {
          "base_uri": "https://localhost:8080/"
        },
        "id": "EmIyK70AqJMW",
        "outputId": "9d3a26ab-93de-42a3-8014-c530b1dd7cac"
      },
      "execution_count": null,
      "outputs": [
        {
          "output_type": "stream",
          "name": "stdout",
          "text": [
            "(5, 4, 2)\n",
            "(4, 2, 0, 7)\n",
            "(1, 3, 5, 4, 2)\n"
          ]
        }
      ]
    },
    {
      "cell_type": "code",
      "source": [
        "# 튜플 덧셈\n",
        "a = (1,2,3)\n",
        "b = (4,5,6)\n",
        "print(a + b)"
      ],
      "metadata": {
        "colab": {
          "base_uri": "https://localhost:8080/"
        },
        "id": "eQrnAjjPqUtH",
        "outputId": "a5a80533-1a05-46ec-b0cb-806c264f70c9"
      },
      "execution_count": null,
      "outputs": [
        {
          "output_type": "stream",
          "name": "stdout",
          "text": [
            "(1, 2, 3, 4, 5, 6)\n"
          ]
        }
      ]
    },
    {
      "cell_type": "code",
      "source": [
        "# 튜플 곱셈\n",
        "a = (1,2,3)\n",
        "print(a * 3)"
      ],
      "metadata": {
        "colab": {
          "base_uri": "https://localhost:8080/"
        },
        "id": "Z5to4ycLqcDn",
        "outputId": "af9cb20a-2d47-456f-99bc-4480f6836253"
      },
      "execution_count": null,
      "outputs": [
        {
          "output_type": "stream",
          "name": "stdout",
          "text": [
            "(1, 2, 3, 1, 2, 3, 1, 2, 3)\n"
          ]
        }
      ]
    },
    {
      "cell_type": "code",
      "source": [
        "# 튜플 길이구하기\n",
        "a = (1,2,3)\n",
        "print(len(a))"
      ],
      "metadata": {
        "colab": {
          "base_uri": "https://localhost:8080/"
        },
        "id": "Rfx5p1MIqgnq",
        "outputId": "5d0cb0c2-be3f-4418-ef17-948c5fc3f409"
      },
      "execution_count": null,
      "outputs": [
        {
          "output_type": "stream",
          "name": "stdout",
          "text": [
            "3\n"
          ]
        }
      ]
    },
    {
      "cell_type": "code",
      "source": [
        "# 튜플을 리스트로 변환하기\n",
        "a = (1,3,5,4,2)\n",
        "a = list(a)\n",
        "print(a)"
      ],
      "metadata": {
        "colab": {
          "base_uri": "https://localhost:8080/"
        },
        "id": "zzlCbc7SqoPK",
        "outputId": "1a6685b2-294b-4a25-a834-2d592abd6f70"
      },
      "execution_count": null,
      "outputs": [
        {
          "output_type": "stream",
          "name": "stdout",
          "text": [
            "[1, 3, 5, 4, 2]\n"
          ]
        }
      ]
    },
    {
      "cell_type": "code",
      "source": [
        "# 리스트를 튜플로 변환하기\n",
        "a = [1,3,5,4,2]\n",
        "a = tuple(a)\n",
        "print(a)"
      ],
      "metadata": {
        "colab": {
          "base_uri": "https://localhost:8080/"
        },
        "id": "CfZ6dicFqupo",
        "outputId": "8bce3324-320e-4a23-aafc-7c8f2d01478f"
      },
      "execution_count": null,
      "outputs": [
        {
          "output_type": "stream",
          "name": "stdout",
          "text": [
            "(1, 3, 5, 4, 2)\n"
          ]
        }
      ]
    },
    {
      "cell_type": "code",
      "source": [
        "'''<실습 예제>\n",
        "튜플이 저장된 변수 a에 정수 5를 추가하고, \n",
        "내림차순으로 정렬된 튜플을 화면에 출력해 보세요. \n",
        "a = (2,3,1,4) '''\n",
        "\n",
        "a = (2,3,1,4)\n",
        "a = list(a)\n",
        "a.append(5)\n",
        "a.sort()\n",
        "a.reverse()\n",
        "a = tuple(a)\n",
        "print(a)"
      ],
      "metadata": {
        "id": "x4vaxHbOq0yV",
        "colab": {
          "base_uri": "https://localhost:8080/"
        },
        "outputId": "62871288-f43d-41a1-8c71-65b6fe442529"
      },
      "execution_count": null,
      "outputs": [
        {
          "output_type": "stream",
          "name": "stdout",
          "text": [
            "(5, 4, 3, 2, 1)\n"
          ]
        }
      ]
    },
    {
      "cell_type": "code",
      "source": [
        "a = (2,3,1,4)\n",
        "a = list(a)\n",
        "a.append(5)\n",
        "a.sort(reverse=True)\n",
        "a = tuple(a)\n",
        "print(a)"
      ],
      "metadata": {
        "colab": {
          "base_uri": "https://localhost:8080/"
        },
        "id": "QINB_7YDw3vL",
        "outputId": "946ed2d3-3a37-4cb5-f5d4-21c2bb698a15"
      },
      "execution_count": null,
      "outputs": [
        {
          "output_type": "stream",
          "name": "stdout",
          "text": [
            "(5, 4, 3, 2, 1)\n"
          ]
        }
      ]
    },
    {
      "cell_type": "code",
      "source": [
        "a = (2,3,1,4)\n",
        "a = list(a)\n",
        "a.append(5)\n",
        "a.sort()\n",
        "a = a[::-1]\n",
        "a = tuple(a)\n",
        "print(a)"
      ],
      "metadata": {
        "colab": {
          "base_uri": "https://localhost:8080/"
        },
        "id": "GvlgYY4TxQBW",
        "outputId": "df363610-2e99-4fd5-caac-8f25e98c64a6"
      },
      "execution_count": null,
      "outputs": [
        {
          "output_type": "stream",
          "name": "stdout",
          "text": [
            "(5, 4, 3, 2, 1)\n"
          ]
        }
      ]
    },
    {
      "cell_type": "code",
      "source": [],
      "metadata": {
        "id": "DGsV6QC4xaI4"
      },
      "execution_count": null,
      "outputs": []
    }
  ]
}